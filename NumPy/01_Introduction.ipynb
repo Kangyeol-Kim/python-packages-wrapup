{
 "cells": [
  {
   "cell_type": "markdown",
   "metadata": {},
   "source": [
    "* NumPy provides `array` type which is similar to Python's built-in `list` type, but NumPy arrays provide much more efficient storage and data operations as the arrays grow larger in size."
   ]
  },
  {
   "cell_type": "code",
   "execution_count": 1,
   "metadata": {},
   "outputs": [
    {
     "data": {
      "text/plain": [
       "'1.15.1'"
      ]
     },
     "execution_count": 1,
     "metadata": {},
     "output_type": "execute_result"
    }
   ],
   "source": [
    "# Versio check\n",
    "import numpy as np\n",
    "np.__version__"
   ]
  },
  {
   "cell_type": "markdown",
   "metadata": {},
   "source": [
    "<h1> Understanding Data Types in Python </h1>\n",
    "\n",
    "| Data type    | Description |\n",
    "|---------------|-------------|\n",
    "| ``bool_``     | Boolean (True or False) stored as a byte |\n",
    "| ``int_``      | Default integer type (same as C ``long``; normally either ``int64`` or ``int32``)|\n",
    "| ``intc``      | Identical to C ``int`` (normally ``int32`` or ``int64``)|\n",
    "| ``intp``      | Integer used for indexing (same as C ``ssize_t``; normally either ``int32`` or ``int64``)|\n",
    "| ``int8``      | Byte (-128 to 127)|\n",
    "| ``int16``     | Integer (-32768 to 32767)|\n",
    "| ``int32``     | Integer (-2147483648 to 2147483647)|\n",
    "| ``int64``     | Integer (-9223372036854775808 to 9223372036854775807)|\n",
    "| ``uint8``     | Unsigned integer (0 to 255)|\n",
    "| ``uint16``    | Unsigned integer (0 to 65535)|\n",
    "| ``uint32``    | Unsigned integer (0 to 4294967295)|\n",
    "| ``uint64``    | Unsigned integer (0 to 18446744073709551615)|\n",
    "| ``float_``    | Shorthand for ``float64``.|\n",
    "| ``float16``   | Half precision float: sign bit, 5 bits exponent, 10 bits mantissa|\n",
    "| ``float32``   | Single precision float: sign bit, 8 bits exponent, 23 bits mantissa|\n",
    "| ``float64``   | Double precision float: sign bit, 11 bits exponent, 52 bits mantissa|\n",
    "| ``complex_``  | Shorthand for ``complex128``.|\n",
    "| ``complex64`` | Complex number, represented by two 32-bit floats|\n",
    "| ``complex128``| Complex number, represented by two 64-bit floats|\n",
    "\n",
    "* Python is dynamically-typed languages which it infer the type of variables without any specific declaration.\n",
    "* In addition, Python variables cotain extra information about the tyope of the value\n",
    "* Because standard Python implementation is written in C, every Python object is simlpy a cleverly-disguised C structure.\n",
    "\n",
    "<h2> Python Integer Case </h2>\n",
    "\n",
    "From Python 3.4 source code. `x=10000` is as follows:\n",
    "```C\n",
    "struct _longobject {\n",
    "    long ob_refcnt;\n",
    "    PyTypeObject *ob_type;\n",
    "    size_t ob_size;\n",
    "    long ob_digit[1];\n",
    "};\n",
    "```\n",
    "\n",
    "It divided into 4 parts:\n",
    "* `ob_refcnt`, a reference count that helps Python sliently handle memory allocation and deallocation\n",
    "* `PyTypeObject`, which encodes the type of the variable\n",
    "* `ob_size`, which specifies the size of the following data members\n",
    "* `ob_digit`, which contains the actual integer value that we expect the Python variable to represent\n",
    "\n",
    "Notice the difference here: a C integer is essentially a label for a position in memory whose bytes encode an integer value. A Python integer is a pointer to a position in memory containing all the Python object information, including the bytes that contain the integer value. This extra information in the Python integer structure is what allows Python to be coded so freely and dynamically. All this additional information in Python types comes at a cost, however, which becomes especially apparent in structures that combine many of these objects.\n",
    "\n",
    "<h2> Python List Case </h2>\n",
    "\n",
    "* The difference between a dynamic-type list and a fixed-type (NumPy-style) array : At the implementation level, the array essentially contains a single pointer to one contiguous block of data. The Python list, on the other hand, contains a pointer to a block of pointers, each of which in turn points to a full Python object like the Python integer we saw earlier. Again, the advantage of the list is flexibility: because each list element is a full structure containing both data and type information, the list can be filled with data of any desired type. Fixed-type NumPy-style arrays lack this flexibility, but are much more efficient for storing and manipulating data."
   ]
  },
  {
   "cell_type": "code",
   "execution_count": 2,
   "metadata": {},
   "outputs": [
    {
     "data": {
      "text/plain": [
       "[bool, str, float, int]"
      ]
     },
     "execution_count": 2,
     "metadata": {},
     "output_type": "execute_result"
    }
   ],
   "source": [
    "L3 = [True, \"2\", 3.0, 4]\n",
    "[type(item) for item in L3]"
   ]
  },
  {
   "cell_type": "markdown",
   "metadata": {},
   "source": [
    "## Creating Arrays from Python Lists"
   ]
  },
  {
   "cell_type": "code",
   "execution_count": 3,
   "metadata": {},
   "outputs": [
    {
     "data": {
      "text/plain": [
       "array([1, 4, 2, 5, 3])"
      ]
     },
     "execution_count": 3,
     "metadata": {},
     "output_type": "execute_result"
    },
    {
     "data": {
      "text/plain": [
       "array([1., 2., 3., 4.], dtype=float32)"
      ]
     },
     "execution_count": 3,
     "metadata": {},
     "output_type": "execute_result"
    },
    {
     "data": {
      "text/plain": [
       "array([[2, 3, 4],\n",
       "       [4, 5, 6],\n",
       "       [6, 7, 8]])"
      ]
     },
     "execution_count": 3,
     "metadata": {},
     "output_type": "execute_result"
    }
   ],
   "source": [
    "np.array([1, 4, 2, 5, 3])\n",
    "np.array([1, 2, 3, 4], dtype='float32')\n",
    "np.array([range(i, i + 3) for i in [2, 4, 6]])"
   ]
  },
  {
   "cell_type": "markdown",
   "metadata": {},
   "source": [
    "## Create Common Arrays"
   ]
  },
  {
   "cell_type": "code",
   "execution_count": 15,
   "metadata": {},
   "outputs": [
    {
     "data": {
      "text/plain": [
       "array([0, 0, 0, 0, 0, 0, 0, 0, 0, 0])"
      ]
     },
     "execution_count": 15,
     "metadata": {},
     "output_type": "execute_result"
    },
    {
     "data": {
      "text/plain": [
       "array([[1., 1., 1., 1., 1.],\n",
       "       [1., 1., 1., 1., 1.],\n",
       "       [1., 1., 1., 1., 1.]])"
      ]
     },
     "execution_count": 15,
     "metadata": {},
     "output_type": "execute_result"
    },
    {
     "data": {
      "text/plain": [
       "array([0, 0, 0, 0, 0, 0, 0, 0, 0, 0], dtype=int16)"
      ]
     },
     "execution_count": 15,
     "metadata": {},
     "output_type": "execute_result"
    },
    {
     "data": {
      "text/plain": [
       "array([[3.14, 3.14, 3.14, 3.14, 3.14],\n",
       "       [3.14, 3.14, 3.14, 3.14, 3.14],\n",
       "       [3.14, 3.14, 3.14, 3.14, 3.14]])"
      ]
     },
     "execution_count": 15,
     "metadata": {},
     "output_type": "execute_result"
    }
   ],
   "source": [
    "# Create wiht fixed value\n",
    "np.zeros(10, dtype=int) # default : int64 as NumPy datatype\n",
    "np.ones((3, 5), dtype=float) # default : float64 as NumPy datatype\n",
    "np.zeros(10, dtype='int16')\n",
    "np.full((3, 5), 3.14)"
   ]
  },
  {
   "cell_type": "code",
   "execution_count": 8,
   "metadata": {},
   "outputs": [
    {
     "data": {
      "text/plain": [
       "array([ 0,  2,  4,  6,  8, 10, 12, 14, 16, 18])"
      ]
     },
     "execution_count": 8,
     "metadata": {},
     "output_type": "execute_result"
    },
    {
     "data": {
      "text/plain": [
       "array([0.  , 0.25, 0.5 , 0.75, 1.  ])"
      ]
     },
     "execution_count": 8,
     "metadata": {},
     "output_type": "execute_result"
    }
   ],
   "source": [
    "# Create sequaltially\n",
    "np.arange(0, 20, 2)\n",
    "np.linspace(0, 1, 5)"
   ]
  },
  {
   "cell_type": "code",
   "execution_count": 10,
   "metadata": {},
   "outputs": [
    {
     "data": {
      "text/plain": [
       "array([[0.86597514, 0.66661937, 0.08618114],\n",
       "       [0.88209025, 0.10121624, 0.72826038],\n",
       "       [0.49246475, 0.61297072, 0.44434698]])"
      ]
     },
     "execution_count": 10,
     "metadata": {},
     "output_type": "execute_result"
    },
    {
     "data": {
      "text/plain": [
       "array([[-1.2638839 ,  0.1037863 , -0.26233179],\n",
       "       [ 0.89578522, -0.13911297,  0.86952407],\n",
       "       [-0.94618655,  1.35526246, -0.0723526 ]])"
      ]
     },
     "execution_count": 10,
     "metadata": {},
     "output_type": "execute_result"
    },
    {
     "data": {
      "text/plain": [
       "array([[2, 8, 9],\n",
       "       [3, 5, 4],\n",
       "       [6, 5, 7]])"
      ]
     },
     "execution_count": 10,
     "metadata": {},
     "output_type": "execute_result"
    },
    {
     "data": {
      "text/plain": [
       "array([[1., 0., 0.],\n",
       "       [0., 1., 0.],\n",
       "       [0., 0., 1.]])"
      ]
     },
     "execution_count": 10,
     "metadata": {},
     "output_type": "execute_result"
    }
   ],
   "source": [
    "# Create randomly\n",
    "# Create a 3x3 array of uniformly distributed\n",
    "# random values between 0 and 1\n",
    "np.random.random((3, 3))\n",
    "# Create a 3x3 array of normally distributed random values\n",
    "# with mean 0 and standard deviation 1\n",
    "np.random.normal(0, 1, (3, 3))\n",
    "np.random.randint(0, 10, (3, 3))\n",
    "np.eye(3)"
   ]
  }
 ],
 "metadata": {
  "kernelspec": {
   "display_name": "Python 3",
   "language": "python",
   "name": "python3"
  },
  "language_info": {
   "codemirror_mode": {
    "name": "ipython",
    "version": 3
   },
   "file_extension": ".py",
   "mimetype": "text/x-python",
   "name": "python",
   "nbconvert_exporter": "python",
   "pygments_lexer": "ipython3",
   "version": "3.7.0"
  }
 },
 "nbformat": 4,
 "nbformat_minor": 2
}
