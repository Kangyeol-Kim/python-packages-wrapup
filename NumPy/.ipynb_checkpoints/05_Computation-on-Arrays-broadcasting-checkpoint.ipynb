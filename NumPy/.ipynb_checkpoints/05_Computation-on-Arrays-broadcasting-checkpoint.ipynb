{
 "cells": [
  {
   "cell_type": "markdown",
   "metadata": {},
   "source": [
    "## Computation on Arrays: Broadcasting\n",
    "\n",
    "Another means of vectorizing operations is to use NumPy's broadcasting functionality. Broadcasting is simply a set of rules for applying binary ufuncs (e.g., addition, subtraction, multiplication, etc.) on arrays of different sizes. Broadcasting allows these types of binary operations to be performed on arrays of different sizes–for example, we can just as easily add a scalar (think of it as a zero-dimensional array) to an array:"
   ]
  },
  {
   "cell_type": "code",
   "execution_count": 1,
   "metadata": {},
   "outputs": [
    {
     "data": {
      "text/plain": [
       "array([6, 7, 8])"
      ]
     },
     "execution_count": 1,
     "metadata": {},
     "output_type": "execute_result"
    }
   ],
   "source": [
    "import numpy as np\n",
    "a = np.array([1, 2, 3])\n",
    "a + 5"
   ]
  },
  {
   "cell_type": "markdown",
   "metadata": {},
   "source": [
    "We can think of this as an operation that stretches or duplicates the value 5 into the array ```[5, 5, 5]```, and adds the results. The advantage of NumPy's broadcasting is that this duplication of values does not actually take place, but it is a useful mental model as we think about broadcasting like below:\n",
    "\n",
    "![Broadcasting Visual](../asset/02.05-broadcasting.png)\n",
    "\n",
    "## Rules of Broadcasting\n",
    "* Rule-1: If the two arrays differ in their number of dimensions, the shape of the one with fewer dimensions is *padded with ones* on its ***leading (left)*** side.\n",
    "* Rule-2: If the shape of the two arrays does not match in any dimension, the array with shape equal to 1 in that dimension is stretched to match the other shape.\n",
    "* Rule-3: If in any dimension the sizes disagree and neither is equal to 1, an error is raised."
   ]
  },
  {
   "cell_type": "markdown",
   "metadata": {},
   "source": [
    "### Broadcasting example 1"
   ]
  },
  {
   "cell_type": "code",
   "execution_count": 2,
   "metadata": {},
   "outputs": [],
   "source": [
    "M = np.ones((2, 3))\n",
    "a = np.arange(3)"
   ]
  },
  {
   "cell_type": "markdown",
   "metadata": {},
   "source": [
    "In start, the shape of two variables is:\n",
    "* `M.shape = (2, 3)`\n",
    "* `a.shape = (3, )`\n",
    "\n",
    "By rule 1, since `a` has fewer dimensions than `M`, `a` is padded with ones\n",
    "* `M.shape -> (2, 3)`\n",
    "* `a.shape -> (1, 3)`\n",
    "\n",
    "By rule 2, since dimension of 1 does not match between `M` and `a`, the array with shape equal to 1 in that dimension(in this case `a`) is stretched to match the other shape\n",
    "* `M.shape -> (2, 3)`\n",
    "* `a.shape -> (2, 3)`"
   ]
  },
  {
   "cell_type": "markdown",
   "metadata": {},
   "source": [
    "### Broadcasting example 2"
   ]
  },
  {
   "cell_type": "code",
   "execution_count": 3,
   "metadata": {},
   "outputs": [],
   "source": [
    "a = np.arange(3).reshape((3, 1))\n",
    "b = np.arange(3)"
   ]
  },
  {
   "cell_type": "markdown",
   "metadata": {},
   "source": [
    "* `a.shape = (3, 1)`\n",
    "* `b.shape = (3,)`\n",
    "\n",
    "By rule 1, we must pad the shape of `b` with ones:\n",
    "\n",
    "* `a.shape -> (3, 1)`\n",
    "* `b.shape -> (1, 3)`\n",
    "\n",
    "By rule 2, we should upgrade all of mismatched dimensions in terms of dimension\n",
    "\n",
    "* `a.shape -> (3, 3)`\n",
    "* `b.shape -> (3, 3)`"
   ]
  },
  {
   "cell_type": "markdown",
   "metadata": {},
   "source": [
    "### Broadcasting example 3"
   ]
  },
  {
   "cell_type": "code",
   "execution_count": 6,
   "metadata": {},
   "outputs": [],
   "source": [
    "M = np.ones((3, 2))\n",
    "a = np.arange(3)"
   ]
  },
  {
   "cell_type": "markdown",
   "metadata": {},
   "source": [
    "* `M.shape = (3, 2)`\n",
    "* `a.shape = (3,)`\n",
    "\n",
    "By rule 1, we must pad the shape of `a` with ones(count at the back of axis):\n",
    "* `M.shape -> (3, 2)`\n",
    "* `a.shape -> (1, 3)`\n",
    "\n",
    "By rule 2, the first dimension of `a` is stretched to match that of `M`:\n",
    "* `M.shape -> (3, 2)`\n",
    "* `a.shape -> (3, 3)`\n",
    "\n",
    "Note that in this case, it is not compatible to operate `+` between `M` and `a`. Because broadcasting allows us to stretch dimension on the left side. If we wanna compute above case, we can use `np.newaxis` to stretch to right side."
   ]
  },
  {
   "cell_type": "code",
   "execution_count": 7,
   "metadata": {},
   "outputs": [
    {
     "data": {
      "text/plain": [
       "(3, 1)"
      ]
     },
     "execution_count": 7,
     "metadata": {},
     "output_type": "execute_result"
    }
   ],
   "source": [
    "a[:, np.newaxis].shape"
   ]
  },
  {
   "cell_type": "code",
   "execution_count": 8,
   "metadata": {},
   "outputs": [
    {
     "data": {
      "text/plain": [
       "array([[1., 1.],\n",
       "       [2., 2.],\n",
       "       [3., 3.]])"
      ]
     },
     "execution_count": 8,
     "metadata": {},
     "output_type": "execute_result"
    }
   ],
   "source": [
    "M + a[:, np.newaxis]"
   ]
  }
 ],
 "metadata": {
  "kernelspec": {
   "display_name": "Python 3",
   "language": "python",
   "name": "python3"
  },
  "language_info": {
   "codemirror_mode": {
    "name": "ipython",
    "version": 3
   },
   "file_extension": ".py",
   "mimetype": "text/x-python",
   "name": "python",
   "nbconvert_exporter": "python",
   "pygments_lexer": "ipython3",
   "version": "3.7.0"
  }
 },
 "nbformat": 4,
 "nbformat_minor": 2
}
